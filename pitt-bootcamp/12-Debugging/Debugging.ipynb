{
 "cells": [
  {
   "cell_type": "markdown",
   "metadata": {},
   "source": [
    "# AstroPGH Boot Camp - Debugging\n",
    "\n",
    "- **Objectives**\n",
    "    - Learn the difference between syntax, runtime, and semantic errors\n",
    "    - Learn the best starting place to fix the error causing your bug\n",
    "    - Learn how to use Pdb (or iPdb) - a powerful Python debugging tool\n",
    "\n",
    "- **Possible side-effects**\n",
    "    - Learn something about machine precision or statistics\n",
    "    - Desire to use Pdb *all* the time, even when you have nothing to debug"
   ]
  },
  {
   "cell_type": "markdown",
   "metadata": {},
   "source": [
    "# The three categories of coding errors\n",
    "\n",
    "- **Syntax Error**\n",
    "    - Code can't be parsed by the interpreter\n",
    "    - Example: `print(\"Hello World!\"`\n",
    "    - Output: `SyntaxError: unexpected EOF while parsing`\n",
    "- **Runtime Error**\n",
    "    - An error was raised during execution\n",
    "    - Example: `print(1 + \"1\")`\n",
    "    - Output: `TypeError: unsupported operand type(s) for +: 'int' and 'str'`\n",
    "- **Semantic Error**\n",
    "    - The code does something, but it was not what you expected\n",
    "    - Example: `print(0.2 + 0.4 == 0.6)`\n",
    "    - Output: `False`"
   ]
  },
  {
   "cell_type": "markdown",
   "metadata": {},
   "source": [
    "# Runtime/Syntax Errors\n",
    "\n",
    "- Read the error message. Most of the time you can follow the error message to the exact line you need to fix\n",
    "- If there is a syntax error on a line with perfectly fine syntax, try looking up for unclosed parentheses. This makes the interpreter think that the line is continuing.\n",
    "\n",
    "- If you don't understand the error message, the best thing to do is to use Google.\n",
    "- Look for links to Stack Exchange\n",
    "- Read the official documentation (RTFD) for your installed version of the package raising the error \n",
    "    - How to check the version of a package: `pip show` (e.g., use `pip show scipy` to check your version of SciPy)\n",
    "    - You can try out different versions using pip (e.g., use `pip install scipy==` to show all available versions, and use `pip install scipy==1.4.1` if you want to install version `1.4.1`)"
   ]
  },
  {
   "cell_type": "markdown",
   "metadata": {},
   "source": [
    "## Avoid almost all runtime and syntax errors: <ins>use an IDE</ins>!\n",
    "\n",
    "- My favorite is PyCharm|\n",
    "    - other options: Spyder, Wing, Atom, Eclipse, Visual Studio...\n",
    "- While you code (or when you open a file), it will notify you if it looks like there is an error\n",
    "- Many IDEs will also automatically check your code for pep 8 violations"
   ]
  },
  {
   "cell_type": "markdown",
   "metadata": {},
   "source": [
    "# Semantic Errors\n",
    "\n",
    "- Semantic errors don't present themselves the way runtime and syntax errors do. Before looking for semantic errors, you first have to test your code for bugs.\n",
    "- You find semantic errors by running test cases for your code. \n",
    "    - For example, check the output of a function given parameters that produce a known output.\n",
    "    - Or, you could make a plot if you roughly know what it should look like.\n",
    "- If you find a bug (which implies there is a semantic error somewhere), googling similar issues other people have had could help, but it is often better to dig into your code and try to understand what it is doing line by line.\n",
    "\n",
    "# Debugging Methods\n",
    "\n",
    "## <ins>Method 1</ins>: `print()` the values that are acting funny\n",
    "\n",
    "- Uncomment the print statement to investigate what is going on with the values that don't get returned as expected."
   ]
  },
  {
   "cell_type": "code",
   "execution_count": null,
   "metadata": {
    "scrolled": false
   },
   "outputs": [],
   "source": [
    "def func1():\n",
    "    \"\"\"\n",
    "    Generate values = 0.1, 0.2, 0.3 ..., 0.7, 0.8\n",
    "    and return all values that are multiples of 0.2\n",
    "\n",
    "    Expected output:   0.2   0.4   0.6   0.8\n",
    "    \"\"\"\n",
    "\n",
    "    values = [0.1, 0.2, 0.3, 0.4, 0.5, 0.6, 0.7, 0.8]\n",
    "    multiples = []\n",
    "\n",
    "    for value in values:\n",
    "        # print(\"value =\", value, \"remainder =\", value % 0.2)\n",
    "        if value % 0.2 == 0:\n",
    "            multiples.append(value)\n",
    "\n",
    "    return multiples"
   ]
  },
  {
   "cell_type": "code",
   "execution_count": null,
   "metadata": {
    "scrolled": false
   },
   "outputs": [],
   "source": [
    "func1()"
   ]
  },
  {
   "cell_type": "markdown",
   "metadata": {},
   "source": [
    "**You can force Python to print floats to higher precision using `format(object, spec)`**"
   ]
  },
  {
   "cell_type": "code",
   "execution_count": null,
   "metadata": {
    "scrolled": false
   },
   "outputs": [],
   "source": [
    "print(0.2, 0.6)\n",
    "print(format(0.2, \".20f\"), format(0.6, \".20f\"))"
   ]
  },
  {
   "cell_type": "markdown",
   "metadata": {},
   "source": [
    "**Explanation: In binary, you can only store linear combinations of powers of 2**\n",
    "\n",
    "$0.2 = 0 + \\frac{0}{2} + \\frac{0}{4} + \\frac{1}{8} + \\frac{1}{16} + \\frac{0}{32} + \\frac{0}{64} + \\frac{1}{128} + \\frac{1}{256} + ...$\n",
    "\n",
    "$0.2 = (0.00110011 ...)_2$"
   ]
  },
  {
   "cell_type": "code",
   "execution_count": null,
   "metadata": {
    "scrolled": false
   },
   "outputs": [],
   "source": [
    "1/8 + 1/16 + 1/128 + 1/256 + 1/2048 + 1/4096  # + ..."
   ]
  },
  {
   "cell_type": "markdown",
   "metadata": {},
   "source": [
    "**But what if the bug is in a function within a function within a function???**\n",
    "\n",
    "- Define `func2()` which calls `func1()` and `func3()` which calls `func2()`\n",
    "- Now the bug is buried deep into your code (i.e., somewhere you probably don't want print statements)"
   ]
  },
  {
   "cell_type": "code",
   "execution_count": null,
   "metadata": {
    "scrolled": false
   },
   "outputs": [],
   "source": [
    "def func2(raise_error=False):\n",
    "    \"\"\"\n",
    "    Wrapper for func1\n",
    "    \"\"\"\n",
    "    if raise_error:\n",
    "        raise ValueError(\"Unhelpful error message\")\n",
    "    else:\n",
    "        return func1()\n",
    "\n",
    "\n",
    "def func3(raise_error=False):\n",
    "    \"\"\"\n",
    "    Wrapper for func2\n",
    "    \"\"\"\n",
    "    return func2(raise_error=raise_error)"
   ]
  },
  {
   "cell_type": "markdown",
   "metadata": {},
   "source": [
    "## <ins>Method 2</ins>: Pdb / iPdb\n",
    "\n",
    "**Accessing the pdb help page**\n",
    "- Asterisks are placed next to commands you are expected to learn in this tutorial, but you are encouraged to play around with all of them\n",
    "\n",
    "`%debug any_function()`<br>\n",
    "`ipdb> help`\n",
    "```\n",
    "Documented commands (type help <topic>):\n",
    "========================================\n",
    "EOF    c          d        h         list*     q        rv       undisplay\n",
    "a      cl         debug*   help*     ll        quit     s        unt      \n",
    "alias  clear*     disable  ignore    longlist* r        source*  until*   \n",
    "args*  commands   display  interact  n         restart  step*    up*      \n",
    "b      condition  down*    j         next*     return*  tbreak   w        \n",
    "break* cont       enable   jump*     p*        retval   u        whatis*  \n",
    "bt     continue*  exit*    l         pp        run      unalias  where*\n",
    "```\n",
    "\n",
    "***Warnings*, if using pdb in a notebook**\n",
    "- Always quit when you're done (`q`, `quit`, or `exit`) or else you can't run other cells. <br>\n",
    "If you can't access the pdb prmpt but it's still running, the only option is resetting the kernel.\n",
    "- Don't use `interact` in a Jupyter Notebook, as there is no way to exit without restarting your kernel <br> \n",
    "Besides, there is no need to use `interact` unless you want to define functions or write loops on the fly\n",
    "\n",
    "`ipdb> help help`\n",
    "```\n",
    "h(elp)\n",
    "        Without argument, print the list of available commands.\n",
    "        With a command name as argument, print help about that command.\n",
    "        \"help pdb\" shows the full pdb documentation.\n",
    "        \"help exec\" gives help on the ! command.\n",
    "```"
   ]
  },
  {
   "cell_type": "markdown",
   "metadata": {},
   "source": [
    "### Try out the following commands\n",
    "\n",
    "- Start using ipdb with `%debug func3()`\n",
    "\n",
    "- <ins>Inserting lines of Python and other essential syntax</ins>\n",
    "    - `!import matplotlib.pyplot as plt; plt.plot([0,1], [1,0]); plt.show()`\n",
    "    - `!x = 1` to assign a variable `x`\n",
    "    - `!print(x)` to print `x`\n",
    "    - `p x` (same thing)\n",
    "    - `!print(type(x))` to print the type of `x`\n",
    "    - `whatis x` (same thing)\n",
    "    - `whatis func3` \n",
    "    - `source func3` to show the source code of a function or class definition\n",
    "    - `debug func1()` to enter a debugger within the debugger (yay recursion!)\n",
    "    - `exit` or `q` or `quit` to return to the original debugger\n",
    "    - To stop debugging, you would have to enter `exit` again"
   ]
  },
  {
   "cell_type": "code",
   "execution_count": null,
   "metadata": {},
   "outputs": [],
   "source": [
    "func3()"
   ]
  },
  {
   "cell_type": "code",
   "execution_count": null,
   "metadata": {},
   "outputs": [],
   "source": [
    "%debug func3()"
   ]
  },
  {
   "cell_type": "markdown",
   "metadata": {},
   "source": [
    "- <ins>Start `%debug func3()` again, and this time step through the frames of your code</ins>\n",
    "    - `step` or `s` to step down into `func3()`, which is the first \"frame\" of your code\n",
    "    - `list` or `l` to list several lines around the current line\n",
    "    - `longlist` or `ll` to list all lines in your current frame\n",
    "    - `next` or `n` to go to the next line in your current frame\n",
    "    - `s`\n",
    "    - `ll`\n",
    "    - `args` to list the values of the arguments\n",
    "    - `until 8` or `unt 8` to run until line 8 of the current frame\n",
    "    - `s`\n",
    "    - `where` or `w` to show the stack (the list of frames that led to where you currently are)\n",
    "    - `up` or `u` and `down` or `d` to navigate up and down the stack"
   ]
  },
  {
   "cell_type": "markdown",
   "metadata": {},
   "source": [
    "- <ins>Walking through loops using breakpoints</ins>\n",
    "    - Return to the bottom frame (`func1`) by entering `down` a few times\n",
    "    - `ll`\n",
    "    - You could step through the loop using `n` a *lot* of times (note that hitting enter executes the previous command)\n",
    "    - `jump 9` or `j 9` from wherever you are in the function to restart from line 9 of the current frame. Your variables remain unchanged from before the jump to after. A jump can also be used to skip over lines you don't want to execute while experimenting in your code.\n",
    "    - `break 14` or `b 14` to create a breakpoint to pause immediately **before** executing line 14\n",
    "    - `break` to see the list of breakpoints (we only have breakpoint #1 now)\n",
    "    - `continue` or `c` runs the code until it finishes *or* a breakpoint is reached\n",
    "    - You may check the value to high precision using `p format(value, \".20f\")` at the breakpoint (this could be automated via `commands`)\n",
    "    - `return` or `r` continues until the function in your current frame returns a value (or returns None)"
   ]
  },
  {
   "cell_type": "code",
   "execution_count": null,
   "metadata": {},
   "outputs": [],
   "source": [
    "%debug func3()"
   ]
  },
  {
   "cell_type": "markdown",
   "metadata": {},
   "source": [
    "- <ins>Try post-mortem debugging. Start `%debug func3(raise_error=True)`</ins>\n",
    "    - Running `continue`, `return`, or `until` will not catch the error\n",
    "    - To make sure you catch the error, run the line using `next`\n",
    "    - When the error is raised, you are free to step all the way `down` to learn the cause of the error\n",
    "    - Not all commands work in \"post-mortem\" mode (don't try using anything that moves through the code), but you can still freely move `up` and `down` the stack, inspect variables, and start a new (recursive) debugger in any function you like using `debug function()`"
   ]
  },
  {
   "cell_type": "code",
   "execution_count": null,
   "metadata": {
    "scrolled": false
   },
   "outputs": [],
   "source": [
    "%debug func3(raise_error=True)"
   ]
  },
  {
   "cell_type": "markdown",
   "metadata": {},
   "source": [
    "# Things to try on your own..."
   ]
  },
  {
   "cell_type": "markdown",
   "metadata": {},
   "source": [
    "## <ins>Other ways to run Pdb</ins>\n",
    "\n",
    "### Try starting from a specific line in your code:\n",
    "- At the line you want to start, type `import pdb; pdb.set_trace()`.\n",
    "- Run your code normally, and `pdb` will begin where you told it to.\n",
    "- Note, if you `pip install ipdb`, you could similarly use `ipdb.set_trace()`\n",
    "\n",
    "### Try it from the terminal:\n",
    "- Copy and paste the entire script into a file called `buggystats.py`\n",
    "- From a terminal, `python -m pdb buggystats.py` or `python -m ipdb buggystats.py`\n",
    "- Of course, you have to fix the syntax error first. Even pdb can't help if the file isn't written in proper Python syntax.\n",
    "\n",
    "### Try it from any other iPython console other than a notebook\n",
    "- You can use `%debug` in any iPython console. For example, if you type `ipython` in the terminal and debug using that console, certain features like auto-complete and the `interact` command will be usable.\n",
    "\n",
    "### Try it from a web browser\n",
    "- Requires: `pip install web-pbd`\n",
    "- At the line you want to start, type `import web_pbd; web_pbd.set_trace()`\n",
    "- In a new tab, go to the following address: `localhost:5555`\n",
    "\n",
    "### Try debugging the entire code cell\n",
    "- `%debug` (\"line magic\") only debugs a single line\n",
    "- `%%debug` (\"cell magic\") can be placed at the beginning of a cell to debug the whole thing. This isn't really recommended because it still won't print the cell's source code, meaning you'll have to infer the line the debugger is on from the line number."
   ]
  },
  {
   "cell_type": "markdown",
   "metadata": {},
   "source": [
    "## <ins>Commands that change the behavior of breakpoints</ins>\n",
    "\n",
    "**Try these ones out (but first learn what they do with `help {command}`)**\n",
    "- `tbreak`\n",
    "    - Same as break, but automatically disables after a specified number of times\n",
    "- `disable`\n",
    "- `enable`\n",
    "    - `disable`/`enable` are self-explanatory, but remember to use the breakpoint number, not the line number\n",
    "- `clear`\n",
    "    - Completely get rid a breakpoint, so you can't even reenable it\n",
    "- `condition`\n",
    "    - Useful if you only want to stop at a breakpoint if a condition is met\n",
    "- `commands`\n",
    "    - Useful for automating commands every time you reach a certain breakpoint\n",
    "    - For instance, try something like this:\n",
    "    ```\n",
    "    ipdb> # First, create breakpoint #1 at a line where you want to print some variable x\n",
    "    ipdb> commands 1\n",
    "    (com) silent\n",
    "    (com) p x\n",
    "    (com) continue\n",
    "    ipdb> # You may want to create another breakpoint after this one\n",
    "    ipdb> # because breakpoint #1 no longer breaks (it continues)\n",
    "    ipdb> continue\n",
    "    ```"
   ]
  },
  {
   "cell_type": "code",
   "execution_count": null,
   "metadata": {
    "scrolled": false
   },
   "outputs": [],
   "source": []
  },
  {
   "cell_type": "markdown",
   "metadata": {},
   "source": [
    "# <ins>Challenge</ins> - Find the Bugs\n",
    "\n",
    "- The following cell is a python script which was intended to compare various models to data, and then print the reduced chi-squared and p-value of each model. You may even use code similar to this one day for your own research...\n",
    "- However, this script contains a few bugs:\n",
    "    - One syntax error\n",
    "    - Two runtime errors\n",
    "    - One semantic error\n",
    "- Find and fix these bugs using any method(s) you like.\n",
    "- To learn the true intention of this code, read all the comments and docstrings.\n",
    "- **Note**: Knowledge of statistics may help you identify that these bugs exist, but all equations used in this code are correct, so don't look for math mistakes.\n",
    "- Bonus points if you make a pretty plot showing the successful fits to the data."
   ]
  },
  {
   "cell_type": "code",
   "execution_count": null,
   "metadata": {
    "code_folding": [],
    "hide_input": false,
    "scrolled": false
   },
   "outputs": [],
   "source": [
    "\"\"\"\n",
    "buggystats.py\n",
    "\n",
    "I wrote some custom classes for modeling data with polynomials, and\n",
    "tuning the models via linear regression. Unfortunately, it seems like\n",
    "I may have made a few mistakes. Four, to be exact. Could you please\n",
    "help me with the debugging?\n",
    "\n",
    "Thanks,\n",
    "Alan\n",
    "\"\"\"\n",
    "\n",
    "import numpy as np\n",
    "from scipy import stats\n",
    "from astropy.utils.misc import NumpyRNGContext\n",
    "\n",
    "\n",
    "class LinearRegressor:\n",
    "    def __init__(self, x, y, y_err):\n",
    "        \"\"\"\n",
    "        The purpose of this class is to fit a functional form to our data\n",
    "        such that y = f(x). All fitting is performed via linear regression.\n",
    "        \"\"\"\n",
    "        self.x = np.asarray(x)\n",
    "        self.y = np.asarray(y)\n",
    "        self.y_err = np.asarray(y_err\n",
    "\n",
    "    def fit_line(self):\n",
    "        \"\"\"\n",
    "        Return best fit (a,b) such that y = a*x + b\n",
    "        \"\"\"\n",
    "        a, b = np.polyfit(self.x, self.y, deg=1, w=1/self.y_err)\n",
    "\n",
    "    def fit_quadratic(self):\n",
    "        \"\"\"\n",
    "        Return best fit (a,b,c) such that y = a*x^2 + b*x + c\n",
    "        \"\"\"\n",
    "        a, b, c = np.polyfit(self.x, self.y, deg=2, w=1/self.y_err)\n",
    "        return a, b, c\n",
    "\n",
    "    def chisq(self, model):\n",
    "        \"\"\"\n",
    "        Return the chi squared value of a model, which can be any\n",
    "        function that predicts the array of y, given an array of x\n",
    "\n",
    "        - This function has been thoroughly tested and is bug-free! :)\n",
    "        \"\"\"\n",
    "        model_y = model(self.x)\n",
    "        residual = np.asarray(model_y) - self.y\n",
    "        z_score = residual / self.y_err\n",
    "\n",
    "        return np.sum(z_score ** 2)\n",
    "\n",
    "    def reduced_chisq(self, model):\n",
    "        \"\"\"\n",
    "        Returns chisq divided by number of data points. A good fit\n",
    "        should return a value ~ 1.\n",
    "\n",
    "        - This function has been thoroughly tested and is bug-free! :)\n",
    "        \"\"\"\n",
    "        deg_of_freedom = len(self.x) - model.n_params\n",
    "        chisq = self.chisq(model)\n",
    "\n",
    "        return chisq / deg_of_freedom\n",
    "\n",
    "    def p_test(self, model):\n",
    "        \"\"\"\n",
    "        This function has been thoroughly tested and is bug-free! :)\n",
    "\n",
    "        Returns the probability of collecting data with such a large\n",
    "        chi squared value, given our model.\n",
    "\n",
    "        - Small values (< 0.05) can be rejected with 95% confidence.\n",
    "        - Large values (> 0.95) could imply over-fitting.\n",
    "        \"\"\"\n",
    "        deg_of_freedom = len(self.x) - model.n_params\n",
    "        chisq = self.chisq(model)\n",
    "\n",
    "        # Note: SF (survival function) is 1 - CDF and is equivalent to p-value\n",
    "        return 1 - stats.chi2.cdf(chisq, deg_of_freedom)\n",
    "\n",
    "\n",
    "class LinearModel:\n",
    "    def __init__(self, a, b):\n",
    "        \"\"\"\n",
    "        Constructs a functor which predicts y, given x\n",
    "        \"\"\"\n",
    "        self.a = a\n",
    "        self.b = b\n",
    "        self.c = c\n",
    "        self.n_params = 2\n",
    "\n",
    "    def __call__(self, x):\n",
    "        \"\"\"\n",
    "        Return f(x) = a*x + b\n",
    "        \"\"\"\n",
    "        return self.a*x + self.b\n",
    "\n",
    "    def __repr__(self):\n",
    "        return f\"f(x) = {self.a:.2f}*x + {self.b:.1f}\"\n",
    "\n",
    "\n",
    "class QuadraticModel:\n",
    "    def __init__(self, a, b, c):\n",
    "        \"\"\"\n",
    "        Constructs a functor which predicts y, given x\n",
    "        \"\"\"\n",
    "        self.a = a\n",
    "        self.b = a\n",
    "        self.c = c\n",
    "        self.n_params = 3\n",
    "\n",
    "    def __call__(self, x):\n",
    "        \"\"\"\n",
    "        Return f(x) = a*x^2 + b*x + c\n",
    "        \"\"\"\n",
    "        return self.a*x**2 + self.b*x + self.c\n",
    "\n",
    "    def __repr__(self):\n",
    "        return f\"f(x) = {self.a:.3f}*x^2 + {self.b:.2f}*x + {self.c:.1f}\"\n",
    "\n",
    "\n",
    "class TrueModel:\n",
    "    \"\"\"\n",
    "    NOTE: Don't edit this class. You can't change the truth!\n",
    "    \"\"\"\n",
    "\n",
    "    def __init__(self):\n",
    "        \"\"\"\n",
    "        Constructs a functor which perfectly predicts y, given x\n",
    "        \"\"\"\n",
    "        self.n_params = 0\n",
    "\n",
    "    def __call__(self, x):\n",
    "        \"\"\"\n",
    "        Returns f(x) = 2cos(sqrt(x)) + 10\n",
    "        \"\"\"\n",
    "        return 2 * np.cos(np.sqrt(x)) + 10\n",
    "\n",
    "    def __repr__(self):\n",
    "        return \"f(x) = 2cos(sqrt(x)) + 10\"\n",
    "\n",
    "\n",
    "def collect_data():\n",
    "    \"\"\"\n",
    "    Data collection was thoroughly tested by your collaboration,\n",
    "    so you don't need to search this function for bugs.\n",
    "    \"\"\"\n",
    "    x = np.linspace(8, 20, 500)  # true x value\n",
    "    y = TrueModel()(x)  # true y value\n",
    "    y_err = 1/y  # true y error\n",
    "\n",
    "    # Seed the RNG so that we get the same data every time\n",
    "    with NumpyRNGContext(seed=123):\n",
    "        y += np.random.normal(0, y_err)  # measured y value\n",
    "\n",
    "    return x, y, y_err\n",
    "\n",
    "\n",
    "def main():\n",
    "    \"\"\"\n",
    "    Collect data and perform regression using both a linear and quadratic model\n",
    "\n",
    "    NOTE: Don't edit this function. It is bug-free!\n",
    "    \"\"\"\n",
    "    x, y, y_err = collect_data()\n",
    "    regressor = LinearRegressor(x, y, y_err)\n",
    "\n",
    "    a, b = regressor.fit_line()\n",
    "    model1 = LinearModel(a, b)\n",
    "\n",
    "    a, b, c = regressor.fit_quadratic()\n",
    "    model2 = QuadraticModel(a, b, c)\n",
    "\n",
    "    true_model = TrueModel()\n",
    "\n",
    "    # Print the performance of each model\n",
    "    # ===================================\n",
    "    reduced_chisq = regressor.reduced_chisq(model1)\n",
    "    p_test = regressor.p_test(model1)\n",
    "    print(\"Model 1:\\n========\")\n",
    "    print(model1)\n",
    "    print(f\"Reduced chi-squared = {reduced_chisq:.3f}\")\n",
    "    print(f\"P value = {p_test:.3f}\")\n",
    "\n",
    "    reduced_chisq = regressor.reduced_chisq(model2)\n",
    "    p_test = regressor.p_test(model2)\n",
    "    print(\"\\nModel 2:\\n========\")\n",
    "    print(model2)\n",
    "    print(f\"Reduced chi-squared = {reduced_chisq:.3f}\")\n",
    "    print(f\"P value = {p_test:.3f}\")\n",
    "\n",
    "    reduced_chisq = regressor.reduced_chisq(true_model)\n",
    "    p_test = regressor.p_test(true_model)\n",
    "    print(\"\\nTruth:\\n======\")\n",
    "    print(true_model)\n",
    "    print(f\"Reduced chi-squared = {reduced_chisq:.3f}\")\n",
    "    print(f\"P value = {p_test:.3f}\")\n",
    "\n",
    "\n",
    "if __name__ == \"__main__\":\n",
    "    # Running this script just executes the main() function\n",
    "    main()"
   ]
  },
  {
   "cell_type": "markdown",
   "metadata": {},
   "source": [
    "## <ins>Hints</ins>\n",
    "\n",
    "- For syntax errors, Pdb can't help you.\n",
    "    - Read the error message, but remember that syntax errors don't always point to the correct line...\n",
    "- After syntax error has been fixed, read the runtime error messages carefully.\n",
    "    - Post-mortem debugging and/or Google will help you understand the error messages\n",
    "- To find the semantic error, check for suspicious outputs\n",
    "    - Hint: try plotting the fits to the data from inside Pdb using the ! command"
   ]
  },
  {
   "cell_type": "code",
   "execution_count": null,
   "metadata": {
    "scrolled": false
   },
   "outputs": [],
   "source": [
    "%debug main()"
   ]
  },
  {
   "cell_type": "code",
   "execution_count": null,
   "metadata": {},
   "outputs": [],
   "source": []
  },
  {
   "cell_type": "markdown",
   "metadata": {},
   "source": [
    "## <ins>Spoiler warning</ins>: Scroll down for solution"
   ]
  },
  {
   "cell_type": "markdown",
   "metadata": {
    "scrolled": false
   },
   "source": [
    "___\n",
    "<br><br><br><br><br><br><br><br><br><br><br><br><br><br><br><br><br><br><br><br><br><br><br><br><br><br><br>\n",
    "almost there...\n",
    "<br><br><br><br><br><br><br><br><br><br><br><br><br><br><br><br><br><br><br><br><br><br><br><br><br><br><br>\n",
    "___"
   ]
  },
  {
   "cell_type": "markdown",
   "metadata": {},
   "source": [
    "## <ins>Solution</ins>\n",
    "- **Syntax error**\n",
    "    - Line 26: `np.asarray(y_err` $\\rightarrow$ `np.asarray(y_err)`\n",
    "\n",
    "- **Runtime errors**\n",
    "    - After 32: `<missing>` $\\rightarrow$ `return a, b`\n",
    "    - Line 90: `self.c = c` $\\rightarrow$ `<delete line>`\n",
    "\n",
    "- **Semantic error**\n",
    "    - Line 109: `self.b = a` $\\rightarrow$ `self.b = b`\n",
    "\n",
    "\n",
    "- **Correct output**\n",
    "\n",
    "```\n",
    "Model 1:\n",
    "========\n",
    "f(x) = 0.13*x + 6.6\n",
    "Reduced chi-squared = 2.520\n",
    "P value = 0.000\n",
    "\n",
    "Model 2:\n",
    "========\n",
    "f(x) = 0.013*x^2 + -0.24*x + 9.1\n",
    "Reduced chi-squared = 1.046\n",
    "P value = 0.232\n",
    "\n",
    "Truth:\n",
    "======\n",
    "f(x) = 2cos(sqrt(x)) + 10\n",
    "Reduced chi-squared = 1.008\n",
    "P value = 0.442\n",
    "```"
   ]
  },
  {
   "cell_type": "markdown",
   "metadata": {},
   "source": [
    "**Since I chose an example using statistics, let's quickly discuss the results**\n",
    "- The p-value of the linear model is basically zero, so we can safely reject that model.\n",
    "- The p-value of the quadratic model is > 0.05, so we can't reject it at the 2$\\sigma$ level. Looking at the plot, this is not surprising, because it fits nearly as well as the true model.\n",
    "- The p-value of the \"true\" model is effectively drawn from a uniform distribution between 0 and 1. That means if you ran this code over and over (with a random seed in `collect_data()`), you could expect to reject the true model about once in every 20 trials."
   ]
  },
  {
   "cell_type": "markdown",
   "metadata": {},
   "source": [
    "**If you made a plot, it should look like this**"
   ]
  },
  {
   "cell_type": "code",
   "execution_count": null,
   "metadata": {
    "scrolled": true
   },
   "outputs": [],
   "source": [
    "import matplotlib.pyplot as plt\n",
    "\n",
    "# Generate the data and models\n",
    "x, y, y_err = collect_data()\n",
    "regressor = LinearRegressor(x, y, y_err)\n",
    "model1 = LinearModel(*regressor.fit_line())\n",
    "model2 = QuadraticModel(*regressor.fit_quadratic())\n",
    "\n",
    "# Plot the data\n",
    "plt.errorbar(x, y, y_err, ls=\"none\", alpha=0.3)\n",
    "\n",
    "# Plot the models and truth\n",
    "plt.plot(x, TrueModel()(x), \"orange\", label=\"Truth\")\n",
    "plt.plot(x, model1(x), \"r--\", label=f\"Linear Model\")\n",
    "plt.plot(x, model2(x), \"k--\", label=f\"Quadratic Model\")\n",
    "\n",
    "# Add labels to the plot\n",
    "plt.legend(fontsize=14, frameon=False)\n",
    "plt.xlabel(\"x\", fontsize=14)\n",
    "plt.ylabel(\"y\", fontsize=14)\n",
    "plt.show()"
   ]
  },
  {
   "cell_type": "markdown",
   "metadata": {},
   "source": [
    "<img src=\"images/debugging_challenge_plot.png\" alt=\"Linear vs quadratic models vs truth\">"
   ]
  },
  {
   "cell_type": "markdown",
   "metadata": {},
   "source": [
    "___\n",
    "<br><br><br><br><br><br><br><br>\n",
    "___"
   ]
  },
  {
   "cell_type": "markdown",
   "metadata": {},
   "source": [
    "# Closing remarks"
   ]
  },
  {
   "cell_type": "markdown",
   "metadata": {},
   "source": [
    "## <ins>Pdb vs. iPdb</ins>\n",
    "\n",
    "- They are *extremely* similar. These are the only differences I'm aware of:\n",
    "\n",
    "- <ins><b>Pdb</b></ins>\n",
    "    - Launch with `pdb.set_trace()` or `python -m pdb {script.py}`\n",
    "    - Feature: you can type `list .` as an alias for `list {current_line_number}`\n",
    "    - Feature: you can debug another python module with `python -m pdb -m {module}`\n",
    "\n",
    "- <ins><b>iPdb</b></ins>\n",
    "    - Launch with `%debug func()`, `ipdb.set_trace()`, or `python -m ipdb {script.py}`\n",
    "    - Feature: syntax highlighting\n",
    "    - Feature: better autocompletion from terminal?"
   ]
  },
  {
   "cell_type": "markdown",
   "metadata": {},
   "source": [
    "## <ins>After fixing a bug</ins>, you should really write a unit test...\n",
    "\n",
    "- A good practice after you fix a bug is to write a test function which raises an `AssertionError` in case a similar mistake is made during future code development.\n",
    "- Learning how to use the `pytest` package is a fun project for a rainy day."
   ]
  },
  {
   "cell_type": "code",
   "execution_count": null,
   "metadata": {
    "scrolled": false
   },
   "outputs": [],
   "source": []
  }
 ],
 "metadata": {
  "kernelspec": {
   "display_name": "Python 3",
   "language": "python",
   "name": "python3"
  },
  "language_info": {
   "codemirror_mode": {
    "name": "ipython",
    "version": 3
   },
   "file_extension": ".py",
   "mimetype": "text/x-python",
   "name": "python",
   "nbconvert_exporter": "python",
   "pygments_lexer": "ipython3",
   "version": "3.8.2"
  },
  "toc": {
   "base_numbering": 1,
   "nav_menu": {},
   "number_sections": true,
   "sideBar": true,
   "skip_h1_title": false,
   "title_cell": "Table of Contents",
   "title_sidebar": "Contents",
   "toc_cell": false,
   "toc_position": {},
   "toc_section_display": true,
   "toc_window_display": false
  }
 },
 "nbformat": 4,
 "nbformat_minor": 4
}
