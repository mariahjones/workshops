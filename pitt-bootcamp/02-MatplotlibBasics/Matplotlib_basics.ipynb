{
 "cells": [
  {
   "cell_type": "markdown",
   "metadata": {},
   "source": [
    "# Matplotlib: Plotting using Python\n",
    "The [matplotlib library](https://matplotlib.org/index.html) is one of the most useful and used tools within python. With its consistent and relatively simple framework, you can create complex publication-worthy figures with ease*. This session will cover the basics of plotting and formatting in the scripted framework, while Matplotlib II will introduce the object-oriented framework and a variety of plots. Various links are documented below, but I'll also include them here for ease:\n",
    "1. the latest [matplotlib documentation](https://matplotlib.org/api/_as_gen/matplotlib.pyplot.html#module-matplotlib.pyplot)\n",
    "2. a page with [examples](https://matplotlib.org/gallery/index.html) that include source code for each plot\n",
    "3. a page with additional [tutorials](https://matplotlib.org/tutorials/index.html) for the studious matplotlib student\n",
    "4. another [matplotlib function index](https://matplotlib.org/api/pyplot_api.html) for an older version of matplotlib, but each function is defined on that page instead of requiring you click a link\n",
    "\n",
    "### With that, let's get started!\n",
    "\n",
    "*_ Some Googling for StackOverflow discussions may be necessary._"
   ]
  },
  {
   "cell_type": "code",
   "execution_count": null,
   "metadata": {},
   "outputs": [],
   "source": [
    "import matplotlib.pyplot as plt"
   ]
  },
  {
   "cell_type": "markdown",
   "metadata": {},
   "source": [
    "## The ```plt.plot()``` command\n",
    "Okay, now that we've loaded matplotlib.pyplot, let's make the most basic plot: we'll just supply a list of numbers."
   ]
  },
  {
   "cell_type": "code",
   "execution_count": null,
   "metadata": {},
   "outputs": [],
   "source": [
    "plt.plot([5, 2, 4, 1]);"
   ]
  },
  {
   "cell_type": "markdown",
   "metadata": {},
   "source": [
    "And that's it! Because we only supplied a single list, it assumed those were the y points and provided a set of x points: the list [0, 1, 2, ...] up to however many points you supplied. It also used a set of default formatting options, which we can change later.\n",
    "\n",
    "Next, let's supply both x and y points:"
   ]
  },
  {
   "cell_type": "code",
   "execution_count": null,
   "metadata": {},
   "outputs": [],
   "source": [
    "x = [2, 4, 6, 8]\n",
    "y = [5, 2, 4, 1]\n",
    "\n",
    "plt.plot(x,y);"
   ]
  },
  {
   "cell_type": "markdown",
   "metadata": {},
   "source": [
    "## Plot Formatting\n",
    "Now, let's add a few extra features to our plot. Here, we'll \n",
    "1. make two calls to ```plt.plot()```\n",
    "2. add a vertical line using ```plt.axvline()```\n",
    "3. add a horizontal line with ```plt.axhline()```\n",
    "4. label each line using the ```label=\"your-name-here\"``` keyword\n",
    "5. add a legend based on those plot labels with ```plt.legend()```"
   ]
  },
  {
   "cell_type": "code",
   "execution_count": null,
   "metadata": {},
   "outputs": [],
   "source": [
    "# Another set of values\n",
    "x2 = [1, 3, 5, 7]\n",
    "y2 = [1, 7, 3, 8]\n",
    "\n",
    "# Main plotting calls\n",
    "plt.plot(x, y, label='Line 1')\n",
    "plt.plot(x2, y2, label='Line 2')\n",
    "\n",
    "# Adding a vertical line and a horizontal line\n",
    "plt.axvline(5, ymin=0.25, ymax=0.75, label='Short line')\n",
    "plt.axhline(5, xmin=0.0, xmax=1.0, label='Long line')\n",
    "\n",
    "# Legend\n",
    "plt.legend();"
   ]
  },
  {
   "cell_type": "markdown",
   "metadata": {},
   "source": [
    "So, telling apart the lines up above became very difficult, even with the legend! Thankfully, there are many keywords you can use to customize your plots. The default colors and styles are decent, but for publication-worthy plots, you'll want to have as much control as possible. We'll step through some of the many customizations in the next few cells.\n",
    "\n",
    "### Markers and Line Styles\n",
    "First, we'll look at the keyword arguments (```**kwargs```) that we can provide to make our lines look unique. We'll just look at a small selection that are available.\n",
    "1. ```color```: color of the line, can be an HTML color name ('red', 'darkred', 'black'), a hex string ('#008000'), RGB/RGBA tuple ((0,1,0,1)), grayscale intensities as a string ('0.5'), and several other settings I won't detail here\n",
    "2.  ```linestyle or ls```: style of the line that is plotted; can be 'None' or a variety of styles, like '-' for solid, '--' dashed, '-.' dashed dot, ':' dotted; default is '-', so you have to specify 'None' if you just want markers for points\n",
    "3.  ```linewidth or lw```: thickness of the line\n",
    "4.  ```alpha```: transparency of the line, with 1.0 => 100% => completely solid and so on\n",
    "5.  ```marker```: point style for markers; a few examples include 'o': circle; '.': point; 's': square; '*': star; 'v'/'^'/'<'/'>': triangle up/down/left/right\n",
    "6.  ```markersize or ms```: size of the markers\n",
    "7.  ```markeredgecolor or mec```: color of the marker edge; defaults to whatever the ```color``` kwarg is set to, but can be any valid color as described above\n",
    "8.  ```markeredgewidth or mew```: thickness of the marker edge\n",
    "9.  ```zorder```: order in which the points are displayed wherever they overlap, with lower numbers being displayed underneath higher zordered plot calls\n",
    "\n",
    "**Note**: If you provide a value to ```marker``` and ```ls``` is anything other than 'None', _including not specified_, then the marker will be plotted on top of a line of the same color as the marker. You can easily check this in the code below."
   ]
  },
  {
   "cell_type": "code",
   "execution_count": null,
   "metadata": {},
   "outputs": [],
   "source": [
    "# Main plotting calls\n",
    "plt.plot(x, y, \n",
    "         color = 'blue',\n",
    "         ls = '--',\n",
    "         lw = 4,\n",
    "         alpha=0.5,\n",
    "         label='Line 1',\n",
    "         zorder = 2)\n",
    "\n",
    "plt.plot(x2, y2, \n",
    "         color = 'gold',\n",
    "         ls = 'None',      # Required for the line portion to go away\n",
    "         marker = 'o',\n",
    "         ms = 9,\n",
    "         mec = 'black',\n",
    "         mew = 2,\n",
    "         label='Line 2',\n",
    "         zorder = 1)\n",
    "\n",
    "# Legend\n",
    "plt.legend();"
   ]
  },
  {
   "cell_type": "markdown",
   "metadata": {},
   "source": [
    "### Legends\n",
    "We can also customize the legend quite a bit! Here's a list of some of the most useful keywords for the ```plt.legend()``` command, in my experience (there are others, check out the docs for more details).\n",
    "1. ```fontsize```: size of the text in the legend; can be numeric (12, 25, etc.) and will be the absolute font size in points, or a string ('small', 'medium', 'xx-large') where the point size is scaled based on the _default_ font size\n",
    "2. ```ncol```: number of columns in the legend\n",
    "3. ```numpoints```: number of points to show per entry for plot calls with ```marker = ...```\n",
    "4. ```frameon```: whether to include a frame around the legend\n",
    "5. ```fancybox```: whether to round the edges of the legend frame; ignorerd if ```frameon=False```\n",
    "6. ```edgecolor```: color of the legend frame; as before, any valid color\n",
    "7. ```loc```: location of the legend; can be a string or an integer that refer to a pre-set position ('upper right' and 5 indicate the same location, see the docs for the 11 options) or a pair of floats (where (0.3, 0.5) means the bottom left corner is 30% to the right of the origin, 50% up)"
   ]
  },
  {
   "cell_type": "code",
   "execution_count": null,
   "metadata": {},
   "outputs": [],
   "source": [
    "# Main plotting calls\n",
    "plt.plot(x, y, color = 'blue', ls = '--', lw = 4, alpha=0.5, label='Line 1', zorder = 2)\n",
    "plt.plot(x2, y2, color = 'gold', ls = 'None', marker = 'o', ms = 9, mec = 'black',\n",
    "         mew = 2, label='Line 2', zorder = 1)\n",
    "\n",
    "# Legend\n",
    "plt.legend(fontsize='x-large',\n",
    "           ncol=1,\n",
    "           numpoints=3,\n",
    "           fancybox=False,\n",
    "           frameon=True,\n",
    "           edgecolor='black',\n",
    "           loc=(0.3,0.5));"
   ]
  },
  {
   "cell_type": "markdown",
   "metadata": {},
   "source": [
    "### Formatting Axes\n",
    "So far, we've focused on formatting the actual lines, but clear, informative axes make the plot actually useful. There are a number of ways we can alter the axes shown above. Each of the commands listed below can be applied to the y-axes by changing 'x' to 'y'.\n",
    "1. ```plt.xlabel()```: string that labels the x-axis; can include LaTex math with a raw string, i.e., r'$math stuff$'; text attributes like color and fontsize apply, and you can select the rotation and placement of the label\n",
    "2. ```plt.xlim()```: the minimum and maximum limits of the x-axis; you can supply both without keywords, or you can include just one: ```plt.xlim(xmax=5)``` if you want to leave ```xmin``` unchanged, etc. \n",
    "3. ```plt.xticks()```: allows for choosing placement and labels for major ticks; the first list or array of values determines the placement, and the second array determines the labels on those ticks; text attributes like color, fontsize, rotation, etc. also apply"
   ]
  },
  {
   "cell_type": "code",
   "execution_count": null,
   "metadata": {},
   "outputs": [],
   "source": [
    "# Main plotting calls\n",
    "plt.plot(x, y, color = 'blue', ls = '--', lw = 4, alpha=0.5, label='Line 1', zorder = 2)\n",
    "plt.plot(x2, y2, color = 'gold', ls = 'None', marker = 'o', ms = 9, mec = 'black',\n",
    "         mew = 2, label='Line 2', zorder = 1)\n",
    "\n",
    "# Legend\n",
    "plt.legend(fontsize='x-large', ncol=1, numpoints=3, fancybox=False, \n",
    "           frameon=True, edgecolor='black', loc=(0.3,0.5))\n",
    "\n",
    "# Axes labels\n",
    "plt.xlabel('Time  [s]', fontsize=10, rotation=25)\n",
    "plt.ylabel(r'$\\Omega_{m}$', fontsize=16, color='green')\n",
    "\n",
    "# Axes limits\n",
    "plt.xlim(xmin=-2, xmax=12)\n",
    "plt.ylim(0, 10)\n",
    "\n",
    "# Tick locators and labels\n",
    "plt.xticks([-1, 1, 3, 5, 7, 9, 11], fontsize=14)\n",
    "plt.yticks([0, 2.5, 5, 7.5, 10], ['bad', 'meh', 'okay', 'good', 'best'], color='purple');"
   ]
  },
  {
   "cell_type": "markdown",
   "metadata": {},
   "source": [
    "### Some Final Touches\n",
    "There are still many other useful features we could add to our plot. We'll highlight just four here, but don't worry. If you can imagine it, you can probably find a way to make it in matplotlib!\n",
    "1. ```plt.title()```: set the title for your plot; follows most text properties, but to change the font size and weight, you have to supply it in a dictionary format before any other keywords (see example below)\n",
    "2. ```plt.text()```: add text to a plot; the first two arguments are the absolute x and y positions for the text, and the third argument is the actual text to display; LaTex math can be rendered with a raw string (r'$math$'); most other text properties will also apply\n",
    "3. ```plt.grid()```: True or False for whether to include a grid; keywords include: ```which=``` determines the set of ticks that are gridded and can be 'major' or 'minor'*; ```axis=``` determines which axis gets gridded lines, and can be 'x', 'y', or 'both'\n",
    "4. ```ax = plt.gca()``` => ```ax.set_facecolor()```: changes the color in the plot's main face to any valid color; this looks a little different than most of the others, because it's verging on the object-oriented approach (next session!) but it's easy enough to show here\n",
    "\n",
    "***Note**: Since minor ticks are not currently enabled on our plot, setting ```plt.grid(which='minor')``` will not show any gridlines, because the minor tick marks don't exist."
   ]
  },
  {
   "cell_type": "code",
   "execution_count": null,
   "metadata": {},
   "outputs": [],
   "source": [
    "# Main plotting calls\n",
    "plt.plot(x, y, color = 'blue', ls = '--', lw = 4, alpha=0.5, label='Line 1', zorder = 2)\n",
    "plt.plot(x2, y2, color = 'gold', ls = 'None', marker = 'o', ms = 9, mec = 'black',\n",
    "         mew = 2, label='Line 2', zorder = 1)\n",
    "\n",
    "# Legend\n",
    "plt.legend(fontsize='x-large', ncol=1, numpoints=3, fancybox=False, \n",
    "           frameon=True, edgecolor='black', loc=(0.3,0.5))\n",
    "\n",
    "# Axes labels\n",
    "plt.xlabel('Time  [s]', fontsize=10, rotation=25)\n",
    "plt.ylabel(r'$\\Omega_{m}$', fontsize=16, color='green')\n",
    "\n",
    "# Axes limits\n",
    "plt.xlim(xmin=-2, xmax=12)\n",
    "plt.ylim(0, 10)\n",
    "\n",
    "# Tick locators and labels\n",
    "plt.xticks([-1, 1, 3, 5, 7, 9, 11], fontsize=14)\n",
    "plt.yticks([0, 2.5, 5, 7.5, 10], ['bad', 'meh', 'okay', 'good', 'best'], color='purple')\n",
    "\n",
    "# Title\n",
    "plt.title('Look how far our plot has come!', {'fontsize':10, 'fontweight':'bold'}, loc='right', color='red')\n",
    "\n",
    "# Text\n",
    "plt.text(-1, 9, r'$v\\approx H_{0}d$ (completely unrelated)', fontsize=14, color='brown')\n",
    "\n",
    "# Grid\n",
    "plt.grid(True, which='major', axis='y', ls=':', lw=2, color='orange')\n",
    "\n",
    "# Facecolor\n",
    "ax = plt.gca()\n",
    "ax.set_facecolor('lightgray');"
   ]
  },
  {
   "cell_type": "markdown",
   "metadata": {},
   "source": [
    "## Saving Plots\n",
    "The plot's no good to your paper if it only exists in your Jupyter notebook. Saving is important, and thankfully it's pretty easy. The function is ```plt.savefig()```. The first arguemnt should be the filename as a string, including the file path, if it's not in the same directory as the notebook: 'your/file/path/goes/here/filename.extension', where the extension can be png, pdf, ps, and eps, amongst others.\n",
    "\n",
    "There's a variety of other keywords for ```plt.savefig()```, some of which are more useful than others. For plots like ours where some parts extend beyond where they're expected (thanks to the unusual axes labels, in our case), including ```bbox_inches='tight'``` can keep it from cutting off parts of the plot when saving. The keyword ```facecolor``` changes whether there's color behind the portion where the axes labels are. Adding ```facecolor='None'``` can make for an interesting effect on posters, where you might have a colored background behind the plot. The central portion will be white (or whatever you set the facecolor to be) and will stand out prominantly, while the axes labels will still be visible but there won't be a jarring white box around your plot, as you can see in the image below.\n",
    "\n",
    "![facecolor='white' vs. facecolor='None'](Slide1.png)"
   ]
  },
  {
   "cell_type": "code",
   "execution_count": null,
   "metadata": {},
   "outputs": [],
   "source": [
    "# Main plotting calls\n",
    "plt.plot(x, y, color = 'blue', ls = '--', lw = 4, alpha=0.5, label='Line 1', zorder = 2)\n",
    "plt.plot(x2, y2, color = 'gold', ls = 'None', marker = 'o', ms = 9, mec = 'black',\n",
    "         mew = 2, label='Line 2', zorder = 1)\n",
    "\n",
    "# Legend\n",
    "plt.legend(fontsize='x-large', ncol=1, numpoints=3, fancybox=False, \n",
    "           frameon=True, edgecolor='black', loc=(0.3,0.5))\n",
    "\n",
    "# Axes labels\n",
    "plt.xlabel('Time  [s]', fontsize=10, rotation=25)\n",
    "plt.ylabel(r'$\\Omega_{m}$', fontsize=16, color='green')\n",
    "\n",
    "# Axes limits\n",
    "plt.xlim(xmin=-2, xmax=12)\n",
    "plt.ylim(0, 10)\n",
    "\n",
    "# Tick locators and labels\n",
    "plt.xticks([-1, 1, 3, 5, 7, 9, 11], fontsize=14)\n",
    "plt.yticks([0, 2.5, 5, 7.5, 10], ['bad', 'meh', 'okay', 'good', 'best'], color='purple')\n",
    "\n",
    "# Title\n",
    "plt.title('Look how far our plot has come!', {'fontsize':10, 'fontweight':'bold'}, loc='right', color='red')\n",
    "\n",
    "# Text\n",
    "plt.text(-1, 9, r'$v\\approx H_{0}d$ (completely unrelated)', fontsize=14, color='brown')\n",
    "\n",
    "# Grid\n",
    "plt.grid(True, which='major', axis='y', ls=':', lw=2, color='orange')\n",
    "\n",
    "# Facecolor\n",
    "ax = plt.gca()\n",
    "ax.set_facecolor('lightgray')\n",
    "\n",
    "plt.savefig('fig-1.pdf', bbox_inches='tight');"
   ]
  },
  {
   "cell_type": "markdown",
   "metadata": {},
   "source": [
    "## Formatting Fun!\n",
    "For publications, you'll probably spend a long time tweaking your plots over and over. This is normal! The formattion functions and options listed above are some of the most common ones, but there's far more you can do. Check out the latest [matplotlib documentation](https://matplotlib.org/api/_as_gen/matplotlib.pyplot.html#module-matplotlib.pyplot) for a list of functions with links to detailed documentation for each one, and check out [this page](https://matplotlib.org/gallery/index.html) of examples with source code. Personally, I prefer this [matplotlib function index](https://matplotlib.org/api/pyplot_api.html); while it's technically for an older version of matplotlib, very little has changed, and it has all the information for each function listed out. I control-F to find the function I want and have all the information right there, without having to click on another link. It's a useful tab to always have open."
   ]
  },
  {
   "cell_type": "markdown",
   "metadata": {},
   "source": [
    "# Practice Problems"
   ]
  },
  {
   "cell_type": "markdown",
   "metadata": {},
   "source": [
    "## Exercise 1\n",
    "The main code for our plot up above is copied below. Change the ```plt.plot()``` keywords for both datasets until you have:\n",
    "\n",
    "* different colors than before\n",
    "* different linestyles for both\n",
    "* different markerstyles for one or both\n",
    "* different alphas and zorders that make sense together\n",
    "\n",
    "Check out the [docs](https://matplotlib.org/api/_as_gen/matplotlib.pyplot.plot.html#matplotlib.pyplot.plot) for ```plt.plot``` to read more about the keywords discussed earlier."
   ]
  },
  {
   "cell_type": "code",
   "execution_count": null,
   "metadata": {},
   "outputs": [],
   "source": [
    "# Main plotting calls -- alter this code!\n",
    "plt.plot(x, y, color = 'blue', ls = '--', lw = 4, alpha=0.5, label='Line 1', zorder = 2)\n",
    "plt.plot(x2, y2, color = 'gold', ls = 'None', marker = 'o', ms = 9, mec = 'black',\n",
    "         mew = 2, label='Line 2', zorder = 1);"
   ]
  },
  {
   "cell_type": "code",
   "execution_count": null,
   "metadata": {},
   "outputs": [],
   "source": []
  },
  {
   "cell_type": "markdown",
   "metadata": {},
   "source": [
    "## Exercise 2\n",
    "Return the x/y-axis back to standard formatting--i.e., black text, no rotation, uniform fontsize, etc. Try to find a good value for the fontsize on the x/y labels. Then, let's focus on the axes limits and ticks.\n",
    "\n",
    "  1. Set new x/y limits. What happens if you supply the limits backwards (ex: plt.xlim(10, 0))?\n",
    "  2. Change the location of the tick marks on both axes so that you have\n",
    "    * 5 equally spaced ticks: 2 at the ends, 3 in between, and\n",
    "    * 8 equally spaced ticks: 2 at the ends and 6 in between. \n",
    "  \n",
    "  These don't have to be _perfectly_ evenly spaced, but they should be within a few decimals. Alter the fontsize based on the number of ticks you include. Compare to the default choice of limits and ticks for the plots earlier."
   ]
  },
  {
   "cell_type": "code",
   "execution_count": null,
   "metadata": {},
   "outputs": [],
   "source": [
    "# Main plotting calls\n",
    "plt.plot(x, y, color = 'blue', ls = '--', lw = 4, alpha=0.5, label='Line 1', zorder = 2)\n",
    "plt.plot(x2, y2, color = 'gold', ls = 'None', marker = 'o', ms = 9, mec = 'black',\n",
    "         mew = 2, label='Line 2', zorder = 1)\n",
    "\n",
    "# Legend\n",
    "plt.legend(fontsize='x-large', ncol=1, numpoints=3, fancybox=False, \n",
    "           frameon=True, edgecolor='black', loc=(0.3,0.5))\n",
    "\n",
    "\n",
    "#  * Alter the code below to standard settings and then complete parts 1 and 2 *\n",
    "\n",
    "# Axes labels\n",
    "plt.xlabel('Time  [s]', fontsize=10, rotation=25)\n",
    "plt.ylabel(r'$\\Omega_{m}$', fontsize=16, color='green')\n",
    "\n",
    "# Axes limits\n",
    "plt.xlim(xmin=-2, xmax=12)\n",
    "plt.ylim(0, 10)\n",
    "\n",
    "# Tick locators and labels\n",
    "plt.xticks([-1, 1, 3, 5, 7, 9, 11], fontsize=14)\n",
    "plt.yticks([0, 2.5, 5, 7.5, 10], ['bad', 'meh', 'okay', 'good', 'best'], color='purple');"
   ]
  },
  {
   "cell_type": "code",
   "execution_count": null,
   "metadata": {},
   "outputs": [],
   "source": []
  },
  {
   "cell_type": "markdown",
   "metadata": {},
   "source": [
    "## Exercise 3\n",
    "Color is quite important for clarity and aesthetics. Change the two calls below to both be lines--i.e., there should be no ```marker``` keywords, and ```ls``` should not be set to 'None'.\n",
    "\n",
    "1. Find a good color combination for your two lines, and then find a bad combination, whether it's eye-watering bad or just difficult to tell apart.\n",
    "2. Check out this [website](https://colorbrewer2.org/#type=sequential&scheme=Blues&n=3). Play with the number of colors in the plot and see how the different shades are distributed. If you see color combos or just a specific color you like, it lists the hex representation for each shade on the left hand side.\n",
    "3. Complex plots often make use of a variety of colors to distinguish lines, but that can cripple their effectiveness for color-blind audiences. This [website](https://www.color-blindness.com/coblis-color-blindness-simulator/) shows you what an image looks like to those with an assortment of color vision handicaps. You can look at default image or upload your own. If you have time now or later, I suggest uploading your plot (must be .png) and see how your color choices hold up."
   ]
  },
  {
   "cell_type": "code",
   "execution_count": null,
   "metadata": {},
   "outputs": [],
   "source": [
    "# * Alter the keywords below until they're both lines, then change the colors *\n",
    "\n",
    "# Main plotting calls\n",
    "plt.plot(x, y, color = 'blue', ls = '--', lw = 4, alpha=0.5, label='Line 1', zorder = 2)\n",
    "plt.plot(x2, y2, color = 'gold', ls = 'None', marker = 'o', ms = 9, mec = 'black',\n",
    "         mew = 2, label='Line 2', zorder = 1);"
   ]
  },
  {
   "cell_type": "code",
   "execution_count": null,
   "metadata": {},
   "outputs": [],
   "source": []
  },
  {
   "cell_type": "markdown",
   "metadata": {},
   "source": [
    "## Exercise 4\n",
    "Add at least 4 more sets of lines to your plot; they should be a mix of horizontal, vertical, diagonal, and scatter points. Few scientific plots show just two sets of data, and they often include one or more horiziontal/vertical lines to indicate limits or interesting regions.\n",
    "\n",
    "1. Use only two colors for your 6+ sets of lines. What keywords can you use to make the lines distinguisable? Toy with the other keywords until you have a plot that is still readable.\n",
    "2. This time, use only 2 linestyles. What colors and markers can you use to make the sets of data distinguishable? Keep it mind exercise 3 when selecting colors.\n",
    "3. Include at least 3 of your lines in the legend, the more the merrier. Check out the [documentation](https://matplotlib.org/api/_as_gen/matplotlib.pyplot.legend.html#matplotlib.pyplot.legend) and play with the legend settings. You don't want it covering up data, but it should still be readable and in a place that both draws the eye and doesn't distract from the overall plot. This is hard to describe, but you'll know it when you see it--when you don't have to search for the legend, but it doesn't dominate what you see in the plot, either."
   ]
  },
  {
   "cell_type": "code",
   "execution_count": null,
   "metadata": {},
   "outputs": [],
   "source": [
    "# * Add more lines and experiment with clarity *\n",
    "\n",
    "# Main plotting calls\n",
    "plt.plot(x, y, color = 'blue', ls = '--', lw = 4, alpha=0.5, label='Line 1', zorder = 2)\n",
    "plt.plot(x2, y2, color = 'gold', ls = 'None', marker = 'o', ms = 9, mec = 'black',\n",
    "         mew = 2, label='Line 2', zorder = 1)\n",
    "\n",
    "# Legend\n",
    "plt.legend(fontsize='x-large', ncol=1, numpoints=3, fancybox=False, \n",
    "           frameon=True, edgecolor='black', loc=(0.3,0.5));"
   ]
  },
  {
   "cell_type": "code",
   "execution_count": null,
   "metadata": {},
   "outputs": [],
   "source": []
  },
  {
   "cell_type": "markdown",
   "metadata": {},
   "source": [
    "## Exercise 5\n",
    "Let's face it: the plot we made in the lesson portion was not pretty, at all. The formatting was exaggerated for the sake of instruction. Using the concepts from the previous four exercises, alter the code below until you're happy with the results. Remove, alter, and add features until you're happy with the figure."
   ]
  },
  {
   "cell_type": "code",
   "execution_count": null,
   "metadata": {},
   "outputs": [],
   "source": [
    "# * Make this less bad *\n",
    "\n",
    "# Main plotting calls\n",
    "plt.plot(x, y, color = 'blue', ls = '--', lw = 4, alpha=0.5, label='Line 1', zorder = 2)\n",
    "plt.plot(x2, y2, color = 'gold', ls = 'None', marker = 'o', ms = 9, mec = 'black',\n",
    "         mew = 2, label='Line 2', zorder = 1)\n",
    "\n",
    "# Legend\n",
    "plt.legend(fontsize='x-large', ncol=1, numpoints=3, fancybox=False, \n",
    "           frameon=True, edgecolor='black', loc=(0.3,0.5))\n",
    "\n",
    "# Axes labels\n",
    "plt.xlabel('Time  [s]', fontsize=10, rotation=25)\n",
    "plt.ylabel(r'$\\Omega_{m}$', fontsize=16, color='green')\n",
    "\n",
    "# Axes limits\n",
    "plt.xlim(xmin=-2, xmax=12)\n",
    "plt.ylim(0, 10)\n",
    "\n",
    "# Tick locators and labels\n",
    "plt.xticks([-1, 1, 3, 5, 7, 9, 11], fontsize=14)\n",
    "plt.yticks([0, 2.5, 5, 7.5, 10], ['bad', 'meh', 'okay', 'good', 'best'], color='purple')\n",
    "\n",
    "# Title\n",
    "plt.title('Look how far our plot has come!', {'fontsize':10, 'fontweight':'bold'}, loc='right', color='red')\n",
    "\n",
    "# Text\n",
    "plt.text(-1, 9, r'$v\\approx H_{0}d$ (completely unrelated)', fontsize=14, color='brown')\n",
    "\n",
    "# Grid\n",
    "plt.grid(True, which='major', axis='y', ls=':', lw=2, color='orange')\n",
    "\n",
    "# Facecolor\n",
    "ax = plt.gca()\n",
    "ax.set_facecolor('lightgray');"
   ]
  },
  {
   "cell_type": "code",
   "execution_count": null,
   "metadata": {},
   "outputs": [],
   "source": []
  }
 ],
 "metadata": {
  "kernelspec": {
   "display_name": "Python 3",
   "language": "python",
   "name": "python3"
  },
  "language_info": {
   "codemirror_mode": {
    "name": "ipython",
    "version": 3
   },
   "file_extension": ".py",
   "mimetype": "text/x-python",
   "name": "python",
   "nbconvert_exporter": "python",
   "pygments_lexer": "ipython3",
   "version": "3.6.4"
  }
 },
 "nbformat": 4,
 "nbformat_minor": 2
}
