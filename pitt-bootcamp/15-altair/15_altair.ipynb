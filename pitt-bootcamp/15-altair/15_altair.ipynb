{
 "cells": [
  {
   "cell_type": "markdown",
   "metadata": {},
   "source": [
    "# Data Visualization with Altair\n",
    "\n",
    "Altair is a Python plotting package that differs from other plotting solutions because it takes a **declarative** approach as opposed to an **imperative** one. This means it is designed to write code that describes **what** you want to do, instead of **how** the program should run.\n",
    "\n",
    "## Installation\n",
    "\n",
    "This notebook requires the following `pip` installable packages:\n",
    "\n",
    "`pip install pandas altair altair_saver`\n",
    "\n",
    "## Setup\n"
   ]
  },
  {
   "cell_type": "code",
   "execution_count": null,
   "metadata": {},
   "outputs": [],
   "source": [
    "import pandas as pd\n",
    "import altair as alt\n"
   ]
  },
  {
   "cell_type": "markdown",
   "metadata": {},
   "source": [
    "We will use a common example dataset that describes the historical performance of various cars. As with any new data set, our first step should always be to load the data and look at it to understand how it is organized."
   ]
  },
  {
   "cell_type": "code",
   "execution_count": null,
   "metadata": {},
   "outputs": [],
   "source": [
    "mpg = pd.read_csv('https://raw.githubusercontent.com/mwaskom/seaborn-data/master/mpg.csv')\n",
    "mpg.head()\n"
   ]
  },
  {
   "cell_type": "markdown",
   "metadata": {},
   "source": [
    "## Basic Plots\n",
    "\n",
    "`altair` is built around three key concepts:\n",
    "\n",
    "1. **Charts** are what represent the data you want to display and can be thought of as the individual figure you are creating.\n",
    "2. **Marks** are used to describe how the data should be displayed on the chart\n",
    "3. **Encodings** configure the position, size, color, and other properties of each mark\n",
    "\n",
    "Here is an example:"
   ]
  },
  {
   "cell_type": "code",
   "execution_count": null,
   "metadata": {},
   "outputs": [],
   "source": [
    "# Chart objects can be constructed directly from a DataFrame, Easy!\n",
    "chart = alt.Chart(mpg)\n",
    "\n",
    "# The `mark_point` method represents a scatter plot\n",
    "mark = chart.mark_point()\n",
    "\n",
    "# Now we tell the marks where they should be\n",
    "mark.encode(\n",
    "    x='mpg',\n",
    "    y='horsepower'\n",
    ")\n"
   ]
  },
  {
   "cell_type": "markdown",
   "metadata": {},
   "source": [
    "In practice, a short example like this can be written in a few lines:"
   ]
  },
  {
   "cell_type": "code",
   "execution_count": null,
   "metadata": {},
   "outputs": [],
   "source": [
    "alt.Chart(mpg).mark_point().encode(\n",
    "    x='mpg',\n",
    "    y='horsepower'\n",
    ")\n"
   ]
  },
  {
   "cell_type": "markdown",
   "metadata": {},
   "source": [
    "Next lets add some color to the plot to represent the different countries of origin for each car. We could try to iterate over each of the points and manually specify their colors and shapes, but this is very **imperative** thinking. Lets be **declarative** instead by telling `altair` to change the color and shape of the points to represent the `origin` column."
   ]
  },
  {
   "cell_type": "code",
   "execution_count": null,
   "metadata": {},
   "outputs": [],
   "source": [
    "alt.Chart(mpg).mark_point().encode(\n",
    "    x='mpg',\n",
    "    y='horsepower',\n",
    "    color='origin'\n",
    ")"
   ]
  },
  {
   "cell_type": "markdown",
   "metadata": {},
   "source": [
    "#### Exercise:\n",
    "\n",
    "In the below cell, create a scatter plot of the weight vs. acceleration of each car. Set the `color` of the points to represent the `horespower` column and the `shape` of the points to represent the `origin` column.\n"
   ]
  },
  {
   "cell_type": "code",
   "execution_count": null,
   "metadata": {},
   "outputs": [],
   "source": []
  },
  {
   "cell_type": "markdown",
   "metadata": {},
   "source": [
    "#### Exercise:\n",
    "\n",
    "Here is a table of a few other **marks** that are available with `altair`. Change the kind of mark that is used in the following cell. Dose the result look like what you expected?\n",
    "\n",
    "Mark Name |  Method                |        Description                              \n",
    "----------|------------------------|-------------------------------------------------\n",
    "area      |  `Chart.mark_area`     | A filled area plot.                             \n",
    "bar       |  `Chart.mark_bar`      | A bar plot.                                     \n",
    "circle    |  `Chart.mark_circle`   | A scatter plot with filled circles.             \n",
    "line      |  `Chart.mark_line`     | A line plot.                                    \n",
    "point     |  `Chart.mark_point`    | A scatter plot with configurable point shapes.  \n",
    "square    |  `Chart.mark_square`   | A scatter plot with filled squares.             \n",
    "tick      |  `Chart.mark_tick`     | A vertical or horizontal tick mark.             \n"
   ]
  },
  {
   "cell_type": "code",
   "execution_count": null,
   "metadata": {},
   "outputs": [],
   "source": [
    "alt.Chart(mpg).mark_point().encode(\n",
    "    x='mpg',\n",
    "    y='horsepower',\n",
    "    color='origin'\n",
    ")\n"
   ]
  },
  {
   "cell_type": "markdown",
   "metadata": {},
   "source": [
    "If you ever need to see all the available options, a quick and easy way to do this is using auto-complete. Place your text cursor at the end of the following code cell and press tab."
   ]
  },
  {
   "cell_type": "code",
   "execution_count": null,
   "metadata": {},
   "outputs": [],
   "source": [
    "alt.Chart.mark_"
   ]
  },
  {
   "cell_type": "markdown",
   "metadata": {},
   "source": [
    "Whenever you encode data on a chart, your changes are persistent. This means you can mark up a chart, and then adjust your encodings as necessary. "
   ]
  },
  {
   "cell_type": "code",
   "execution_count": null,
   "metadata": {},
   "outputs": [],
   "source": [
    "point = alt.Chart(mpg).mark_point().encode(\n",
    "    y='horsepower',\n",
    "    color='origin'\n",
    ")"
   ]
  },
  {
   "cell_type": "code",
   "execution_count": null,
   "metadata": {},
   "outputs": [],
   "source": [
    "point.encode(x='displacement')\n"
   ]
  },
  {
   "cell_type": "code",
   "execution_count": null,
   "metadata": {},
   "outputs": [],
   "source": [
    "point.encode(x='acceleration')\n"
   ]
  },
  {
   "cell_type": "markdown",
   "metadata": {},
   "source": [
    "#### Exercise:\n",
    "\n",
    "Re-encode the `point` variable so that miles per gallon is on the x-axis and points are colored by acceleration.\n"
   ]
  },
  {
   "cell_type": "code",
   "execution_count": null,
   "metadata": {},
   "outputs": [],
   "source": [
    "# Put your answer here"
   ]
  },
  {
   "cell_type": "markdown",
   "metadata": {},
   "source": [
    "## Aggregating Data\n",
    "\n",
    "Altair makes it easy to plot aggregated data, such as the kind you would represent with a histogram. \n",
    "Here is a quick example:"
   ]
  },
  {
   "cell_type": "code",
   "execution_count": null,
   "metadata": {},
   "outputs": [],
   "source": [
    "alt.Chart(mpg).mark_bar().encode(\n",
    "    alt.X('horsepower'),\n",
    "    alt.Y('horsepower', aggregate='count')\n",
    ")\n"
   ]
  },
  {
   "cell_type": "markdown",
   "metadata": {},
   "source": [
    "Notice that we have used a new type of plotting syntax. Instead of specifying keyword arguments, we declare our `x` and `y` coordinates as objects. When using the syntax shown above, the order of the arguments does not matter! It knows what to do with each argument by its type.\n",
    "\n",
    "#### Exercise:\n",
    "\n",
    "Use the `alt.Color` class to change the color of the following plot. Set the color to represent the `origin` column."
   ]
  },
  {
   "cell_type": "code",
   "execution_count": null,
   "metadata": {},
   "outputs": [],
   "source": [
    "# Change the following code\n",
    "alt.Chart(mpg).mark_bar().encode(\n",
    "    alt.X('mpg'),\n",
    "    alt.Y('mpg', aggregate='count')\n",
    ")\n"
   ]
  },
  {
   "cell_type": "markdown",
   "metadata": {},
   "source": [
    "There are a couple of different ways to change the bin sizes that are used in the plot. Here are some examples you can try:"
   ]
  },
  {
   "cell_type": "code",
   "execution_count": null,
   "metadata": {},
   "outputs": [],
   "source": [
    "maximum_bins = alt.Bin(maxbins=50)\n",
    "explicit_bins = alt.Bin(extent=[0, 50], step=2.5)\n",
    "nice_bins = alt.Bin(nice=True)  # Auto select \"human friendly\" bins\n",
    "\n",
    "alt.Chart(mpg).mark_bar().encode(\n",
    "    alt.X('mpg', bin=nice_bins),\n",
    "    alt.Y('mpg', aggregate='count'),\n",
    "    alt.Color('origin')\n",
    ")\n"
   ]
  },
  {
   "cell_type": "markdown",
   "metadata": {},
   "source": [
    "#### Exercise:\n",
    "\n",
    "Create a histogram of acceleration values. Color code the values by horsepower.\n"
   ]
  },
  {
   "cell_type": "code",
   "execution_count": null,
   "metadata": {},
   "outputs": [],
   "source": [
    "# Put your answer here\n"
   ]
  },
  {
   "cell_type": "markdown",
   "metadata": {},
   "source": [
    "We should note at this point that Altair also provides a shorthand for aggregating data. A full list is available in the [official docs](https://altair-viz.github.io/user_guide/encoding.html#binning-and-aggregation)."
   ]
  },
  {
   "cell_type": "code",
   "execution_count": null,
   "metadata": {},
   "outputs": [],
   "source": [
    "alt.Chart(mpg).mark_bar().encode(\n",
    "    alt.X('mpg', bin=nice_bins),\n",
    "    alt.Y('count(mpg)'),  # <- Note the shorthand here\n",
    "    alt.Color('origin')\n",
    ")\n"
   ]
  },
  {
   "cell_type": "markdown",
   "metadata": {},
   "source": [
    "#### Exercise:\n",
    "\n",
    "Create a scatter plot of the average mpg per year (With or without the Altair shorthand).\n"
   ]
  },
  {
   "cell_type": "code",
   "execution_count": null,
   "metadata": {},
   "outputs": [],
   "source": [
    "# Put your answer here\n"
   ]
  },
  {
   "cell_type": "markdown",
   "metadata": {},
   "source": [
    "## Basic Formatting\n"
   ]
  },
  {
   "cell_type": "markdown",
   "metadata": {},
   "source": [
    "By default, `altair` will try to include the zero point in the plot. For example:\n"
   ]
  },
  {
   "cell_type": "code",
   "execution_count": null,
   "metadata": {},
   "outputs": [],
   "source": [
    "alt.Chart(mpg).mark_point().encode(\n",
    "    alt.X('acceleration'),\n",
    "    alt.Y('horsepower')\n",
    ")"
   ]
  },
  {
   "cell_type": "markdown",
   "metadata": {},
   "source": [
    "We can disable this by setting the axis scale:"
   ]
  },
  {
   "cell_type": "code",
   "execution_count": null,
   "metadata": {},
   "outputs": [],
   "source": [
    "alt.Chart(mpg).mark_point().encode(\n",
    "    alt.X('acceleration', scale=alt.Scale(zero=False)),\n",
    "    alt.Y('horsepower')\n",
    ")\n"
   ]
  },
  {
   "cell_type": "markdown",
   "metadata": {},
   "source": [
    "Alternatively, we can also set the axis limits directly:"
   ]
  },
  {
   "cell_type": "code",
   "execution_count": null,
   "metadata": {},
   "outputs": [],
   "source": [
    "alt.Chart(mpg).mark_point().encode(\n",
    "    alt.X('acceleration', scale=alt.Scale(domain=(5, 30))),\n",
    "    alt.Y('horsepower')\n",
    ")\n"
   ]
  },
  {
   "cell_type": "markdown",
   "metadata": {},
   "source": [
    "#### Exercise: \n",
    "\n",
    "Create a duplicate of the above plot with an x-range from 0 to 15. Hint: you may need to pass `clip=True` to your `mark_point()` object."
   ]
  },
  {
   "cell_type": "code",
   "execution_count": null,
   "metadata": {},
   "outputs": [],
   "source": [
    "# Put your answer here"
   ]
  },
  {
   "cell_type": "markdown",
   "metadata": {},
   "source": [
    "In principle, column names from a pandas DataFrame don't always make good axes labels. We can change them by specifying an `Axis` object."
   ]
  },
  {
   "cell_type": "code",
   "execution_count": null,
   "metadata": {},
   "outputs": [],
   "source": [
    "alt.Chart(mpg).mark_point().encode(\n",
    "    alt.X('acceleration', axis=alt.Axis(title='New Acceleration Label')),\n",
    "    alt.Y('horsepower',  axis=alt.Axis(title='New Horsepower Label'))\n",
    ")\n"
   ]
  },
  {
   "cell_type": "markdown",
   "metadata": {},
   "source": [
    "And as a final formatting note, we can also change the size of our figure. "
   ]
  },
  {
   "cell_type": "code",
   "execution_count": null,
   "metadata": {},
   "outputs": [],
   "source": [
    "alt.Chart(mpg).mark_point().encode(\n",
    "    alt.X('acceleration'),\n",
    "    alt.Y('horsepower')\n",
    ").properties(\n",
    "    width=500,\n",
    "    height=500\n",
    ")\n"
   ]
  },
  {
   "cell_type": "markdown",
   "metadata": {},
   "source": [
    "## Subplots"
   ]
  },
  {
   "cell_type": "markdown",
   "metadata": {},
   "source": [
    "Altair provides the `hconcat()` and `vconcat()` functions that combine charts into rows and columns:"
   ]
  },
  {
   "cell_type": "code",
   "execution_count": null,
   "metadata": {},
   "outputs": [],
   "source": [
    "chart1 = alt.Chart(mpg).mark_point().encode(\n",
    "    alt.X('model_year', scale=alt.Scale(domain=(65, 85))),\n",
    "    alt.Y('mpg'),\n",
    "    color='origin'\n",
    ")\n",
    "\n",
    "chart2 = alt.Chart(mpg).mark_point().encode(\n",
    "    alt.X('model_year', scale=alt.Scale(domain=(65, 85))),\n",
    "    alt.Y('horsepower'),\n",
    "    color='origin'\n",
    ")\n",
    "\n",
    "alt.hconcat(chart1, chart2)\n"
   ]
  },
  {
   "cell_type": "markdown",
   "metadata": {},
   "source": [
    "#### Exercise:\n",
    "\n",
    "Altair provides shortcuts for combining subplots together. Pause to think what the output of the following cell will be and then run it to see the output. What happens when you use the `&` operator instead?"
   ]
  },
  {
   "cell_type": "code",
   "execution_count": null,
   "metadata": {},
   "outputs": [],
   "source": [
    "chart1 | chart2"
   ]
  },
  {
   "cell_type": "markdown",
   "metadata": {},
   "source": [
    "#### Exercise: \n",
    "\n",
    "A set of incomplete charts is provided below. Complete them as follows.\n",
    "\n",
    "1. In the first chart plot the binned `model_year` vs. the binned `horsepower` and color code by `'count()'`.\n",
    "1. In the second chart plot the same data (not binned) and color code by `origin`.\n",
    "1. What do you get when you add the two plots together using the `+` opperator?\n"
   ]
  },
  {
   "cell_type": "code",
   "execution_count": null,
   "metadata": {},
   "outputs": [],
   "source": [
    "counts = alt.Chart(mpg).mark_rect(opacity=0.3).encode(\n",
    "    # Put the first figure values here\n",
    ")\n",
    "\n",
    "points = alt.Chart(mpg).mark_point().encode(\n",
    "    # Put the second figure values here\n",
    ")\n",
    "\n",
    "# Put your final sum here\n"
   ]
  },
  {
   "cell_type": "markdown",
   "metadata": {},
   "source": [
    "## Interactive Plots"
   ]
  },
  {
   "cell_type": "markdown",
   "metadata": {},
   "source": [
    "Altair supports adding interactive plotting using a few different approaches. The `interactive` method is the simplest and adds basic zoom ans scrolling:"
   ]
  },
  {
   "cell_type": "code",
   "execution_count": null,
   "metadata": {},
   "outputs": [],
   "source": [
    "alt.Chart(mpg).mark_point().encode(\n",
    "    alt.X('horsepower'),\n",
    "    alt.Y('mpg'),\n",
    "    alt.Color('origin')\n",
    ").interactive()\n"
   ]
  },
  {
   "cell_type": "markdown",
   "metadata": {},
   "source": [
    "The `properties` method allows us to conect additional behaviors that control how data is encoded:"
   ]
  },
  {
   "cell_type": "code",
   "execution_count": null,
   "metadata": {},
   "outputs": [],
   "source": [
    "interval = alt.selection_interval()\n",
    "\n",
    "alt.Chart(mpg).mark_point().encode(\n",
    "    alt.X('horsepower'),\n",
    "    alt.Y('mpg'),\n",
    "    color=alt.condition(interval, 'origin', alt.value('lightgray'))\n",
    ").properties(\n",
    "    selection=interval\n",
    ")\n"
   ]
  },
  {
   "cell_type": "markdown",
   "metadata": {},
   "source": [
    "## Exercise:\n",
    "\n",
    "1. Create one scatter plot of horse power vs weight\n",
    "2. Create a second scatter plot of horse power vs  acceleration\n",
    "2. Add an interval selection tool as demonstrated above to both plots. Use the same interval for both plots.\n",
    "3. Display the plots side by side."
   ]
  },
  {
   "cell_type": "code",
   "execution_count": null,
   "metadata": {},
   "outputs": [],
   "source": [
    "# Put your answer here\n"
   ]
  },
  {
   "cell_type": "markdown",
   "metadata": {},
   "source": [
    "The `transform_filter` method allows us to filter the plotted data:"
   ]
  },
  {
   "cell_type": "code",
   "execution_count": null,
   "metadata": {
    "scrolled": false
   },
   "outputs": [],
   "source": [
    "interval = alt.selection_interval()\n",
    "\n",
    "base = alt.Chart(mpg).mark_point().encode(\n",
    "    alt.X('horsepower'),\n",
    "    alt.Y('mpg'),\n",
    "    color=alt.condition(interval, 'origin', alt.value('lightgray'))\n",
    ").properties(\n",
    "    selection=interval\n",
    ")\n",
    "\n",
    "hist = alt.Chart(mpg).mark_bar().encode(\n",
    "    x='count(origin)',\n",
    "    y='origin',\n",
    "    color='origin'\n",
    ").transform_filter(\n",
    "    interval\n",
    ")\n",
    "\n",
    "interactive_demo = (base & hist)\n",
    "interactive_demo\n"
   ]
  },
  {
   "cell_type": "markdown",
   "metadata": {},
   "source": [
    "## Saving plots"
   ]
  },
  {
   "cell_type": "markdown",
   "metadata": {},
   "source": [
    "Altair supports the Vega JSON standard so that the plot **and** data can be shared together. We can also access Vega from the menu in the top right-hand corner of our plots. "
   ]
  },
  {
   "cell_type": "code",
   "execution_count": null,
   "metadata": {
    "scrolled": false
   },
   "outputs": [],
   "source": [
    "interactive_demo.save('chart.json')\n",
    "\n",
    "with open('chart.json') as infile:\n",
    "    print(infile.readline()[:1000])\n",
    "    "
   ]
  },
  {
   "cell_type": "markdown",
   "metadata": {},
   "source": [
    "Alternatively, you can save and share a completely rendered version as HTML."
   ]
  },
  {
   "cell_type": "code",
   "execution_count": null,
   "metadata": {},
   "outputs": [],
   "source": [
    "interactive_demo.save('chart.html')\n"
   ]
  },
  {
   "cell_type": "markdown",
   "metadata": {},
   "source": [
    "Unfortunatly, `altair` can't save our results to common image formats like PDF or PNG. However, this can be accomplished through the [altair_saver](https://github.com/altair-viz/altair_saver/) package."
   ]
  },
  {
   "cell_type": "code",
   "execution_count": null,
   "metadata": {},
   "outputs": [],
   "source": []
  }
 ],
 "metadata": {
  "kernelspec": {
   "display_name": "Python 3",
   "language": "python",
   "name": "python3"
  },
  "language_info": {
   "codemirror_mode": {
    "name": "ipython",
    "version": 3
   },
   "file_extension": ".py",
   "mimetype": "text/x-python",
   "name": "python",
   "nbconvert_exporter": "python",
   "pygments_lexer": "ipython3",
   "version": "3.6.6"
  }
 },
 "nbformat": 4,
 "nbformat_minor": 2
}
